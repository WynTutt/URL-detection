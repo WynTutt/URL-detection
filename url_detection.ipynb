{
 "cells": [
  {
   "cell_type": "code",
   "execution_count": 1,
   "id": "3b03c94e-bb5c-4541-b37b-6747b6ccddba",
   "metadata": {},
   "outputs": [],
   "source": [
    "import pandas as pd\n",
    "import numpy as np\n",
    "import random\n",
    "import re\n",
    "import matplotlib.pyplot as plt\n",
    "from sklearn.model_selection import train_test_split\n",
    "from sklearn.linear_model import LogisticRegression\n",
    "from sklearn.metrics import f1_score, average_precision_score, recall_score\n",
    "from sklearn.feature_extraction.text import TfidfVectorizer\n",
    "\n",
    "from scipy.sparse import coo_matrix, hstack"
   ]
  },
  {
   "cell_type": "code",
   "execution_count": 2,
   "id": "25b0a275-0ab8-44ed-a3a8-1263d72f1a6a",
   "metadata": {},
   "outputs": [],
   "source": [
    "#split url into tokens\n",
    "def getTokens(input):\n",
    "    tokensBySlash = str(input.encode('utf-8')).split('/')\n",
    "    allTokens = []\n",
    "    for i in tokensBySlash:\n",
    "        tokens = str(i).split('-')\n",
    "        tokensByDot = []\n",
    "        for j in range(0,len(tokens)):\n",
    "            tempTokens = str(tokens[j]).split('.')\n",
    "            tokensByDot = tokensByDot + tempTokens\n",
    "        allTokens = allTokens + tokens + tokensByDot\n",
    "    allTokens = list(set(allTokens))\n",
    "    if 'com' in allTokens:\n",
    "        allTokens.remove('com')\n",
    "    return allTokens"
   ]
  },
  {
   "cell_type": "code",
   "execution_count": 3,
   "id": "80482713-eb21-40be-b3cf-fe7339d80458",
   "metadata": {},
   "outputs": [],
   "source": [
    "#F05 - count the number of characters in host and in path\n",
    "def split(input):\n",
    "    characterInHost = []\n",
    "    characterInPath = []\n",
    "    \n",
    "    for i in input:\n",
    "        url_alap = i\n",
    "        \n",
    "        if re.match(\"http://\", url_alap) or re.match(\"https://\", url_alap):                  \n",
    "            url = url_alap.split('//')                        \n",
    "            protocol = url[0] + \"//\"\n",
    "            host = url[1].split('/')[0]          #IndexError: list index out of range -> fixed\n",
    "            url = protocol + host                #https-paypal.verifications-updates.com/\n",
    "            path = \"\"\n",
    "            if len(url_alap.split(url)) > 1:\n",
    "                path = url_alap.split(url)[1]            \n",
    "        else:\n",
    "            if re.search(\"/\", url_alap):\n",
    "                url = url_alap.split('/')\n",
    "                host = url[0]\n",
    "                path = url_alap.split(host)[1]\n",
    "                \n",
    "            else:\n",
    "                host = url_alap\n",
    "                path = \"\"\n",
    "                \n",
    "        characterInHost.append(host.count('-') + host.count('_') + host.count('@'))\n",
    "        characterInPath.append(path.count('-') + path.count('_') + path.count('@') + path.count('.'))\n",
    "        \n",
    "    return (characterInHost, characterInPath)"
   ]
  },
  {
   "cell_type": "code",
   "execution_count": 4,
   "id": "126c7213-cdbd-4881-8035-4814829d86d4",
   "metadata": {},
   "outputs": [],
   "source": [
    "#F07 - count the size of the url\n",
    "def urlSize(input):\n",
    "    sizeOfUrl = []\n",
    "    \n",
    "    for i in input:\n",
    "        sizeOfUrl.append(len(i));\n",
    "        \n",
    "    return sizeOfUrl;"
   ]
  },
  {
   "cell_type": "code",
   "execution_count": 5,
   "id": "83e17c45-6339-4748-9c53-a20c67c80fe6",
   "metadata": {},
   "outputs": [],
   "source": [
    "#F06 - examine url's port number\n",
    "def hasPortNumber(input):\n",
    "    portNumber = []\n",
    "    p = '(?:http.*://)?(?P<host>[^:/ ]+).?(?P<port>[0-9]*).*'\n",
    "    count = 0;\n",
    "    \n",
    "    for i in input:\n",
    "        m = re.search(p, i)\n",
    "        if(m.group('port') == \"\"):\n",
    "            portNumber.append(80)\n",
    "        else:\n",
    "            portNumber.append(float(m.group('port')))\n",
    "            count += 1\n",
    "            \n",
    "    return portNumber"
   ]
  },
  {
   "cell_type": "code",
   "execution_count": 6,
   "id": "c03fbd64-bd93-457d-98c8-c7a0cc2598cd",
   "metadata": {},
   "outputs": [],
   "source": [
    "#F03 - check if url is shortened\n",
    "def shortened(input):\n",
    "    validShortened = [\"bit.ly\", \"goo.gl\", \"bit.do\", \"ow.ly\", \"tiny.cc\", \"snip.ly\", \"is.gd\", \"u.to\", \"moe.sc\", \"rrd.me\", \"tr.im\", \"ouo.io\"]\n",
    "    result = []\n",
    "    temp = 0\n",
    "\n",
    "    for j in input:\n",
    "        for i in validShortened:\n",
    "            if re.search(i, j):\n",
    "                temp = 1\n",
    "                result.append(1)\n",
    "                break\n",
    "        if temp == 0:\n",
    "            result.append(0)\n",
    "        temp = 0\n",
    "\n",
    "    return result"
   ]
  },
  {
   "cell_type": "code",
   "execution_count": 7,
   "id": "ed0e005e-bcd0-4a45-b2d5-cc7fef6703ba",
   "metadata": {},
   "outputs": [
    {
     "name": "stderr",
     "output_type": "stream",
     "text": [
      "c:\\users\\yinnan\\appdata\\local\\programs\\python\\python38\\lib\\site-packages\\IPython\\core\\interactiveshell.py:3444: FutureWarning: In a future version of pandas all arguments of read_csv except for the argument 'filepath_or_buffer' will be keyword-only\n",
      "  exec(code_obj, self.user_global_ns, self.user_ns)\n"
     ]
    }
   ],
   "source": [
    "allurlscsv = pd.read_csv('malicious_phish.csv', ',')\n",
    "allurlsdata = pd.DataFrame(allurlscsv)\n",
    "allurlsdata = np.array(allurlsdata)\n",
    "random.shuffle(allurlsdata)\n",
    "\n",
    "y_1 = [d[1] for d in allurlsdata]\n",
    "y = []\n",
    "\n",
    "for i in y_1:\n",
    "    if re.search('defacement', i) or re.search('malware', i) or re.search('phishing', i):\n",
    "        y.append('bad')\n",
    "    else:\n",
    "        y.append('benign')"
   ]
  },
  {
   "cell_type": "code",
   "execution_count": 8,
   "id": "c6caf251-f798-47eb-abfa-3e860fbe5a5f",
   "metadata": {},
   "outputs": [],
   "source": [
    "corpus = [d[0] for d in allurlsdata]\n",
    "afterSplit = split(corpus)\n",
    "afterUrlSize = urlSize(corpus)\n",
    "afterHasPortNumber = hasPortNumber(corpus)\n",
    "afterShortened = shortened(corpus)\n",
    "\n",
    "afterUrlSize = np.reshape(afterUrlSize, (1, -1)).T\n",
    "afterHasPortNumber = np.reshape(afterHasPortNumber, (1, -1)).T\n",
    "afterShortened = np.reshape(afterShortened, (1, -1)).T"
   ]
  },
  {
   "cell_type": "code",
   "execution_count": 9,
   "id": "a3f11784-ed11-4d42-b704-1c20e86c370d",
   "metadata": {},
   "outputs": [
    {
     "data": {
      "text/plain": [
       "<651191x599655 sparse matrix of type '<class 'numpy.float64'>'\n",
       "\twith 7254307 stored elements in COOrdinate format>"
      ]
     },
     "execution_count": 9,
     "metadata": {},
     "output_type": "execute_result"
    }
   ],
   "source": [
    "vectorizer = TfidfVectorizer(tokenizer = getTokens)\n",
    "X = vectorizer.fit_transform(corpus)\n",
    "X.shape\n",
    "type(X)\n",
    "\n",
    "hstack([X, np.array(afterSplit[0]).reshape(-1, 1), np.array(afterSplit[1]).reshape(-1, 1), afterUrlSize, afterHasPortNumber, afterShortened])"
   ]
  },
  {
   "cell_type": "code",
   "execution_count": 10,
   "id": "ceb2bf97-47f4-4bb9-8888-c54bcf4d3181",
   "metadata": {},
   "outputs": [
    {
     "name": "stdout",
     "output_type": "stream",
     "text": [
      "(651191, 599650)\n",
      "0.9938574466941545\n"
     ]
    },
    {
     "name": "stderr",
     "output_type": "stream",
     "text": [
      "c:\\users\\yinnan\\appdata\\local\\programs\\python\\python38\\lib\\site-packages\\sklearn\\linear_model\\_logistic.py:814: ConvergenceWarning: lbfgs failed to converge (status=1):\n",
      "STOP: TOTAL NO. of ITERATIONS REACHED LIMIT.\n",
      "\n",
      "Increase the number of iterations (max_iter) or scale the data as shown in:\n",
      "    https://scikit-learn.org/stable/modules/preprocessing.html\n",
      "Please also refer to the documentation for alternative solver options:\n",
      "    https://scikit-learn.org/stable/modules/linear_model.html#logistic-regression\n",
      "  n_iter_i = _check_optimize_result(\n"
     ]
    }
   ],
   "source": [
    "print(X.shape)\n",
    "X_train, X_test, y_train, y_test = train_test_split(X, y, test_size=0.2, random_state=42)\n",
    "\n",
    "lgs = LogisticRegression()\n",
    "lgs.fit(X_train, y_train)\n",
    "print(lgs.score(X_test, y_test)) "
   ]
  },
  {
   "cell_type": "code",
   "execution_count": 11,
   "id": "0fe2c268-e147-4045-b3e0-4e746f0e9ecb",
   "metadata": {},
   "outputs": [
    {
     "data": {
      "text/plain": [
       "(-2.011744380478722, 42.24663199005316)"
      ]
     },
     "execution_count": 11,
     "metadata": {},
     "output_type": "execute_result"
    },
    {
     "data": {
      "image/png": "[encoded data removed]",
      "text/plain": [
       "<Figure size 432x288 with 1 Axes>"
      ]
     },
     "metadata": {
      "needs_background": "light"
     },
     "output_type": "display_data"
    }
   ],
   "source": [
    "lgs_log = lgs.coef_[0]\n",
    "lgs_log = np.abs(lgs_log)\n",
    "plt.plot(np.sort(lgs_log))\n",
    "plt.xlim()\n",
    "plt.ylim()"
   ]
  },
  {
   "cell_type": "code",
   "execution_count": 12,
   "id": "119597ec-8820-41bb-885c-3eb0858235fd",
   "metadata": {},
   "outputs": [],
   "source": [
    "#reduce X\n",
    "#we take into consideration an ulr only if it's coef is > 0.41 \n",
    "X_Reduced_train = X_train[:, lgs_log > 0.41]\n",
    "X_Reduced_test = X_test[:, lgs_log > 0.41]\n",
    "\n",
    "lgs_reduced = lgs_log[ lgs_log > 0.41]"
   ]
  },
  {
   "cell_type": "code",
   "execution_count": 13,
   "id": "c61e3967-22a6-4a5e-975c-68f3f78bfd5d",
   "metadata": {},
   "outputs": [
    {
     "name": "stdout",
     "output_type": "stream",
     "text": [
      "0.9933506860464223\n"
     ]
    },
    {
     "name": "stderr",
     "output_type": "stream",
     "text": [
      "c:\\users\\yinnan\\appdata\\local\\programs\\python\\python38\\lib\\site-packages\\sklearn\\linear_model\\_logistic.py:814: ConvergenceWarning: lbfgs failed to converge (status=1):\n",
      "STOP: TOTAL NO. of ITERATIONS REACHED LIMIT.\n",
      "\n",
      "Increase the number of iterations (max_iter) or scale the data as shown in:\n",
      "    https://scikit-learn.org/stable/modules/preprocessing.html\n",
      "Please also refer to the documentation for alternative solver options:\n",
      "    https://scikit-learn.org/stable/modules/linear_model.html#logistic-regression\n",
      "  n_iter_i = _check_optimize_result(\n"
     ]
    }
   ],
   "source": [
    "lgs_mod = LogisticRegression()\n",
    "lgs_mod.fit(X_Reduced_train, y_train)\n",
    "print(lgs_mod.score(X_Reduced_test,y_test))"
   ]
  },
  {
   "cell_type": "code",
   "execution_count": 14,
   "id": "70b83a03-48ff-4e18-b438-58f595ab2a48",
   "metadata": {},
   "outputs": [],
   "source": [
    "y_pred = lgs.predict(X)"
   ]
  },
  {
   "cell_type": "code",
   "execution_count": 15,
   "id": "929888e1-2006-4abd-a28c-c01a98b79e71",
   "metadata": {},
   "outputs": [],
   "source": [
    "y_int = []\n",
    "y_pred_int = []\n",
    "for i in y:\n",
    "    if(i == \"bad\"):\n",
    "        y_int.append(0)\n",
    "    else:\n",
    "        y_int.append(1)\n",
    "    \n",
    "for i in y_pred:\n",
    "    if(i == \"bad\"):\n",
    "        y_pred_int.append(0)\n",
    "    else:\n",
    "        y_pred_int.append(1)"
   ]
  },
  {
   "cell_type": "code",
   "execution_count": 16,
   "id": "f2d91cfc-9bc0-4183-9e2c-84e2efcf2986",
   "metadata": {},
   "outputs": [
    {
     "data": {
      "text/plain": [
       "array(['bad', 'benign'], dtype='<U6')"
      ]
     },
     "execution_count": 16,
     "metadata": {},
     "output_type": "execute_result"
    }
   ],
   "source": [
    "np.unique(y)"
   ]
  },
  {
   "cell_type": "code",
   "execution_count": 17,
   "id": "66a2894f-330b-42b0-bcbf-3288e5c69516",
   "metadata": {},
   "outputs": [
    {
     "name": "stdout",
     "output_type": "stream",
     "text": [
      "0.9986457072735481\n",
      "0.9943145251237935\n",
      "0.9966590767037492\n"
     ]
    }
   ],
   "source": [
    "#recall_score, average precision, f1 score\n",
    "print(recall_score(y, y_pred, pos_label = 'benign'))\n",
    "print(average_precision_score(y_int, y_pred_int))\n",
    "print(f1_score(y, y_pred, pos_label = 'benign'))"
   ]
  },
  {
   "cell_type": "code",
   "execution_count": null,
   "id": "90cb713a-74e3-46b3-a30e-c3e1359ad354",
   "metadata": {},
   "outputs": [],
   "source": []
  }
 ],
 "metadata": {
  "kernelspec": {
   "display_name": "Python 3 (ipykernel)",
   "language": "python",
   "name": "python3"
  },
  "language_info": {
   "codemirror_mode": {
    "name": "ipython",
    "version": 3
   },
   "file_extension": ".py",
   "mimetype": "text/x-python",
   "name": "python",
   "nbconvert_exporter": "python",
   "pygments_lexer": "ipython3",
   "version": "3.8.0"
  }
 },
 "nbformat": 4,
 "nbformat_minor": 5
}
